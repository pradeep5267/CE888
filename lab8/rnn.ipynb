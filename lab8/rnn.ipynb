{
 "cells": [
  {
   "cell_type": "markdown",
   "metadata": {
    "colab_type": "text",
    "id": "view-in-github"
   },
   "source": [
    "<a href=\"https://colab.research.google.com/github/albanda/CE888/blob/master/lab8/rnn.ipynb\" target=\"_parent\"><img src=\"https://colab.research.google.com/assets/colab-badge.svg\" alt=\"Open In Colab\"/></a>"
   ]
  },
  {
   "cell_type": "markdown",
   "metadata": {
    "id": "gS1IIAS-bcb-"
   },
   "source": [
    "# Learning from Sequences: Timeseries and Text\n",
    "\n",
    "Created by Dr Ana Matran-Fernandez (amatra@essex.ac.uk) for CE888 (Data Science and Decision Making)\n",
    "\n",
    "This notebook accompanies lecture 8 and illustrates recurrent neural networks on an example of a timeseries (predicting tomorrow's temperature) and a classification problem on the IMDB text dataset."
   ]
  },
  {
   "cell_type": "markdown",
   "metadata": {
    "id": "0myiQp20cxRK"
   },
   "source": [
    "# Imports"
   ]
  },
  {
   "cell_type": "code",
   "execution_count": 1,
   "metadata": {
    "id": "1J0bYBQ7_a0L"
   },
   "outputs": [],
   "source": [
    "# imports\n",
    "import numpy as np\n",
    "import matplotlib.pyplot as plt\n",
    "import os\n",
    "import pandas as pd\n",
    "from sklearn.model_selection import train_test_split"
   ]
  },
  {
   "cell_type": "code",
   "execution_count": 2,
   "metadata": {
    "id": "U0NPDv7X_a0M"
   },
   "outputs": [],
   "source": [
    "# tensorflow imports\n",
    "from tensorflow import keras\n",
    "from keras import layers, models\n",
    "from keras.callbacks import EarlyStopping, ModelCheckpoint"
   ]
  },
  {
   "cell_type": "markdown",
   "metadata": {
    "id": "xaiw_VZjbtSH"
   },
   "source": [
    "# Timeseries"
   ]
  },
  {
   "cell_type": "code",
   "execution_count": 3,
   "metadata": {
    "colab": {
     "base_uri": "https://localhost:8080/",
     "height": 424
    },
    "id": "iA_R1Q-K_a0N",
    "outputId": "94162d66-4d0a-4f95-9cd8-3e94c4623704"
   },
   "outputs": [
    {
     "data": {
      "text/html": [
       "<div>\n",
       "<style scoped>\n",
       "    .dataframe tbody tr th:only-of-type {\n",
       "        vertical-align: middle;\n",
       "    }\n",
       "\n",
       "    .dataframe tbody tr th {\n",
       "        vertical-align: top;\n",
       "    }\n",
       "\n",
       "    .dataframe thead th {\n",
       "        text-align: right;\n",
       "    }\n",
       "</style>\n",
       "<table border=\"1\" class=\"dataframe\">\n",
       "  <thead>\n",
       "    <tr style=\"text-align: right;\">\n",
       "      <th></th>\n",
       "      <th>date</th>\n",
       "      <th>radiation_avg</th>\n",
       "      <th>precip</th>\n",
       "      <th>wind_avg</th>\n",
       "      <th>wind_max</th>\n",
       "      <th>temp_avg</th>\n",
       "      <th>humidity_avg</th>\n",
       "    </tr>\n",
       "  </thead>\n",
       "  <tbody>\n",
       "    <tr>\n",
       "      <th>0</th>\n",
       "      <td>14/05/2014 00:00</td>\n",
       "      <td>159</td>\n",
       "      <td>0.0</td>\n",
       "      <td>1.4</td>\n",
       "      <td>3.3</td>\n",
       "      <td>14.27</td>\n",
       "      <td>64.95</td>\n",
       "    </tr>\n",
       "    <tr>\n",
       "      <th>1</th>\n",
       "      <td>15/05/2014 00:00</td>\n",
       "      <td>280</td>\n",
       "      <td>0.0</td>\n",
       "      <td>0.6</td>\n",
       "      <td>2.3</td>\n",
       "      <td>13.51</td>\n",
       "      <td>72.91</td>\n",
       "    </tr>\n",
       "    <tr>\n",
       "      <th>2</th>\n",
       "      <td>16/05/2014 00:00</td>\n",
       "      <td>186</td>\n",
       "      <td>3.4</td>\n",
       "      <td>0.8</td>\n",
       "      <td>2.7</td>\n",
       "      <td>15.65</td>\n",
       "      <td>74.69</td>\n",
       "    </tr>\n",
       "    <tr>\n",
       "      <th>3</th>\n",
       "      <td>17/05/2014 00:00</td>\n",
       "      <td>221</td>\n",
       "      <td>0.0</td>\n",
       "      <td>1.0</td>\n",
       "      <td>3.3</td>\n",
       "      <td>17.46</td>\n",
       "      <td>71.42</td>\n",
       "    </tr>\n",
       "    <tr>\n",
       "      <th>4</th>\n",
       "      <td>18/05/2014 00:00</td>\n",
       "      <td>255</td>\n",
       "      <td>0.0</td>\n",
       "      <td>2.1</td>\n",
       "      <td>5.5</td>\n",
       "      <td>16.85</td>\n",
       "      <td>74.45</td>\n",
       "    </tr>\n",
       "    <tr>\n",
       "      <th>...</th>\n",
       "      <td>...</td>\n",
       "      <td>...</td>\n",
       "      <td>...</td>\n",
       "      <td>...</td>\n",
       "      <td>...</td>\n",
       "      <td>...</td>\n",
       "      <td>...</td>\n",
       "    </tr>\n",
       "    <tr>\n",
       "      <th>2551</th>\n",
       "      <td>17/05/2021 00:00</td>\n",
       "      <td>196</td>\n",
       "      <td>1.4</td>\n",
       "      <td>2.2</td>\n",
       "      <td>5.5</td>\n",
       "      <td>10.51</td>\n",
       "      <td>99.86</td>\n",
       "    </tr>\n",
       "    <tr>\n",
       "      <th>2552</th>\n",
       "      <td>17/05/2021 00:00</td>\n",
       "      <td>173</td>\n",
       "      <td>2.8</td>\n",
       "      <td>1.8</td>\n",
       "      <td>5.5</td>\n",
       "      <td>10.80</td>\n",
       "      <td>99.86</td>\n",
       "    </tr>\n",
       "    <tr>\n",
       "      <th>2553</th>\n",
       "      <td>18/05/2021 00:00</td>\n",
       "      <td>311</td>\n",
       "      <td>0.0</td>\n",
       "      <td>1.4</td>\n",
       "      <td>5.0</td>\n",
       "      <td>10.29</td>\n",
       "      <td>92.94</td>\n",
       "    </tr>\n",
       "    <tr>\n",
       "      <th>2554</th>\n",
       "      <td>19/05/2021 00:00</td>\n",
       "      <td>232</td>\n",
       "      <td>6.6</td>\n",
       "      <td>1.8</td>\n",
       "      <td>5.5</td>\n",
       "      <td>11.39</td>\n",
       "      <td>90.32</td>\n",
       "    </tr>\n",
       "    <tr>\n",
       "      <th>2555</th>\n",
       "      <td>20/05/2021 00:00</td>\n",
       "      <td>44</td>\n",
       "      <td>0.0</td>\n",
       "      <td>0.5</td>\n",
       "      <td>2.7</td>\n",
       "      <td>6.35</td>\n",
       "      <td>99.86</td>\n",
       "    </tr>\n",
       "  </tbody>\n",
       "</table>\n",
       "<p>2556 rows × 7 columns</p>\n",
       "</div>"
      ],
      "text/plain": [
       "                  date  radiation_avg  precip  wind_avg  wind_max  temp_avg  \\\n",
       "0     14/05/2014 00:00            159     0.0       1.4       3.3     14.27   \n",
       "1     15/05/2014 00:00            280     0.0       0.6       2.3     13.51   \n",
       "2     16/05/2014 00:00            186     3.4       0.8       2.7     15.65   \n",
       "3     17/05/2014 00:00            221     0.0       1.0       3.3     17.46   \n",
       "4     18/05/2014 00:00            255     0.0       2.1       5.5     16.85   \n",
       "...                ...            ...     ...       ...       ...       ...   \n",
       "2551  17/05/2021 00:00            196     1.4       2.2       5.5     10.51   \n",
       "2552  17/05/2021 00:00            173     2.8       1.8       5.5     10.80   \n",
       "2553  18/05/2021 00:00            311     0.0       1.4       5.0     10.29   \n",
       "2554  19/05/2021 00:00            232     6.6       1.8       5.5     11.39   \n",
       "2555  20/05/2021 00:00             44     0.0       0.5       2.7      6.35   \n",
       "\n",
       "      humidity_avg  \n",
       "0            64.95  \n",
       "1            72.91  \n",
       "2            74.69  \n",
       "3            71.42  \n",
       "4            74.45  \n",
       "...            ...  \n",
       "2551         99.86  \n",
       "2552         99.86  \n",
       "2553         92.94  \n",
       "2554         90.32  \n",
       "2555         99.86  \n",
       "\n",
       "[2556 rows x 7 columns]"
      ]
     },
     "execution_count": 3,
     "metadata": {},
     "output_type": "execute_result"
    }
   ],
   "source": [
    "df = pd.read_csv('weather.csv')\n",
    "df.drop(['temp_max', 'temp_min'], axis=1, inplace=True)\n",
    "df"
   ]
  },
  {
   "cell_type": "code",
   "execution_count": 4,
   "metadata": {
    "colab": {
     "base_uri": "https://localhost:8080/",
     "height": 279
    },
    "id": "nzsytNAh_a0N",
    "outputId": "fd5d1d32-d135-4784-ed4e-87897d4a5104"
   },
   "outputs": [
    {
     "data": {
      "image/png": "[encoded data removed]",
      "text/plain": [
       "<Figure size 432x288 with 1 Axes>"
      ]
     },
     "metadata": {
      "needs_background": "light"
     },
     "output_type": "display_data"
    }
   ],
   "source": [
    "plt.plot(range(len(df)), df['temp_avg'])\n",
    "plt.xlabel('Temporal range')\n",
    "plt.ylabel('Average temperature (C) (7 years)')\n",
    "plt.savefig('temperature_over_time.pdf', bbox_inches='tight')"
   ]
  },
  {
   "cell_type": "code",
   "execution_count": 5,
   "metadata": {
    "colab": {
     "base_uri": "https://localhost:8080/",
     "height": 279
    },
    "id": "ysbM2n99_a0N",
    "outputId": "e83eb333-eb41-43a6-aed4-d467dd53a0ed"
   },
   "outputs": [
    {
     "data": {
      "image/png": "[encoded data removed]",
      "text/plain": [
       "<Figure size 432x288 with 1 Axes>"
      ]
     },
     "metadata": {
      "needs_background": "light"
     },
     "output_type": "display_data"
    }
   ],
   "source": [
    "# Look at the first 2 years\n",
    "length = 2*365\n",
    "plt.plot(range(length), df['temp_avg'][:length])\n",
    "plt.xlabel('Temporal range')\n",
    "plt.ylabel('Average temperature (C) (2 years)')\n",
    "plt.savefig('temperature_over_time_2y.pdf', bbox_inches='tight')"
   ]
  },
  {
   "cell_type": "markdown",
   "metadata": {
    "id": "ikyqi2m7_a0O"
   },
   "source": [
    "We have clear periodicity every year. In the previous plot we saw 7 cycles (7 years). Here we see 2.\n",
    "\n",
    "Always look for periodicity in your timeseries. There will always be daily and yearly cycles. Check these patterns.\n",
    "\n",
    "Another issue with timeseries is dividing the dataset into train/validation/test sets. We definitely cannot shuffle the data, and we need to be very careful with data leakage (using data from the future)."
   ]
  },
  {
   "cell_type": "markdown",
   "metadata": {
    "id": "1fxuW2ne_a0P"
   },
   "source": [
    "## Data prep\n",
    "\n",
    "We'll try to predict the average temperature of tomorrow based on data from the past.\n",
    "\n",
    "To avoid data leakage, we're going to use a simple approach: use the first 50% of data for training, the next 30% for validation, and the final 20% for testing.\n"
   ]
  },
  {
   "cell_type": "code",
   "execution_count": 6,
   "metadata": {
    "colab": {
     "base_uri": "https://localhost:8080/"
    },
    "id": "vofGsYen_a0P",
    "outputId": "d9c3740f-5cc9-410c-db5b-0e5de780084f"
   },
   "outputs": [
    {
     "name": "stdout",
     "output_type": "stream",
     "text": [
      "Samples for training: 1278; validation: 766; test: 512\n"
     ]
    }
   ],
   "source": [
    "n_tr, n_val = int(0.5*len(df)), int(0.3*len(df))\n",
    "n_te = len(df) - n_tr - n_val\n",
    "print('Samples for training: %d; validation: %d; test: %d' % (n_tr, n_val, n_te))"
   ]
  },
  {
   "cell_type": "code",
   "execution_count": 7,
   "metadata": {
    "colab": {
     "base_uri": "https://localhost:8080/"
    },
    "id": "lsMDT2Jq_a0P",
    "outputId": "40daccd3-273c-4909-818c-09a40b155929"
   },
   "outputs": [
    {
     "name": "stdout",
     "output_type": "stream",
     "text": [
      "(2556, 6)\n"
     ]
    }
   ],
   "source": [
    "# Get the data from the dataframe (dropping date column)\n",
    "data = df.iloc[:, 1:].values\n",
    "print(data.shape)\n",
    "assert data.shape[0] == len(df)\n",
    "assert data.shape[1] == len(df.columns)-1, \"Are you sure you're dropping the date?\"\n",
    "# We need to normalise our time series. Calculate mean and std from TRAINING DATA ONLY. \n",
    "# We'll use it on the validation and test sets.\n",
    "mean_tr = data[:n_tr, :].mean(axis=0)\n",
    "std_tr = data[:n_tr, :].std(axis=0)\n",
    "data = (data - mean_tr) / std_tr\n",
    "\n",
    "\n",
    "y = df['temp_avg'].values.reshape(-1, 1)\n",
    "\n",
    "# index of the column that contains the avg_temp\n",
    "y_idx = 4"
   ]
  },
  {
   "cell_type": "code",
   "execution_count": 8,
   "metadata": {
    "colab": {
     "base_uri": "https://localhost:8080/"
    },
    "id": "1VJAcdfICLi1",
    "outputId": "41b330ca-bfad-49b3-ccae-fb22c8411336"
   },
   "outputs": [
    {
     "data": {
      "text/plain": [
       "array([14.27, 13.51, 15.65, 17.46, 16.85, 18.26, 17.35, 15.55, 14.52,\n",
       "       13.93, 11.48, 13.63, 12.81, 12.4 , 13.67, 14.15, 13.22, 12.21,\n",
       "       15.53, 14.52])"
      ]
     },
     "execution_count": 8,
     "metadata": {},
     "output_type": "execute_result"
    }
   ],
   "source": [
    "data[:20, y_idx] * std_tr[y_idx] + mean_tr[y_idx]"
   ]
  },
  {
   "cell_type": "code",
   "execution_count": 9,
   "metadata": {
    "colab": {
     "base_uri": "https://localhost:8080/"
    },
    "id": "xN-YJyEeCUv9",
    "outputId": "9cf43612-c0f3-4864-f113-a9a5531e0904"
   },
   "outputs": [
    {
     "data": {
      "text/plain": [
       "array([[18.26],\n",
       "       [17.35],\n",
       "       [15.55],\n",
       "       [14.52],\n",
       "       [13.93],\n",
       "       [11.48],\n",
       "       [13.63],\n",
       "       [12.81],\n",
       "       [12.4 ],\n",
       "       [13.67],\n",
       "       [14.15],\n",
       "       [13.22],\n",
       "       [12.21],\n",
       "       [15.53],\n",
       "       [14.52],\n",
       "       [15.35],\n",
       "       [12.29],\n",
       "       [13.88],\n",
       "       [15.13],\n",
       "       [17.29]])"
      ]
     },
     "execution_count": 9,
     "metadata": {},
     "output_type": "execute_result"
    }
   ],
   "source": [
    "y[5:25]"
   ]
  },
  {
   "cell_type": "code",
   "execution_count": 10,
   "metadata": {
    "id": "K_JGeiAs_a0Q"
   },
   "outputs": [],
   "source": [
    "# We'll use a Dataset from keras to pass our data\n",
    "sampling_rate = 1  # we keep all data points\n",
    "sequence_length = 14  # 2 weeks to predict tomorrow's temperature\n",
    "delay = sampling_rate * sequence_length  # the target is the day after the end of the sequence\n",
    "batch_size = 16"
   ]
  },
  {
   "cell_type": "code",
   "execution_count": 11,
   "metadata": {
    "colab": {
     "base_uri": "https://localhost:8080/"
    },
    "id": "cRDGWNYl_a0Q",
    "outputId": "126b8150-1e10-4f4d-afd1-0666658a6796"
   },
   "outputs": [
    {
     "name": "stdout",
     "output_type": "stream",
     "text": [
      "X shape: (16, 14, 6)\n",
      "target shape: (16, 1)\n"
     ]
    },
    {
     "name": "stderr",
     "output_type": "stream",
     "text": [
      "2022-03-17 12:59:26.908648: I tensorflow/compiler/mlir/mlir_graph_optimization_pass.cc:185] None of the MLIR Optimization Passes are enabled (registered 2)\n",
      "2022-03-17 12:59:26.910271: W tensorflow/core/platform/profile_utils/cpu_utils.cc:128] Failed to get CPU frequency: 0 Hz\n"
     ]
    }
   ],
   "source": [
    "train_dataset = keras.utils.timeseries_dataset_from_array(\n",
    "    data[:-delay],\n",
    "    targets=y[delay:],\n",
    "    sampling_rate=sampling_rate, sequence_length=sequence_length,\n",
    "    batch_size=batch_size,\n",
    "    start_index=0, end_index=n_tr  # first 50% for training\n",
    "    )\n",
    "\n",
    "val_dataset = keras.utils.timeseries_dataset_from_array(\n",
    "    data[:-delay],\n",
    "    targets=y[delay:],\n",
    "    sampling_rate=sampling_rate, sequence_length=sequence_length,\n",
    "    batch_size=batch_size,\n",
    "    start_index=n_tr, end_index=n_tr+n_val  # 50%-80% for validation\n",
    "    )\n",
    "\n",
    "test_dataset = keras.utils.timeseries_dataset_from_array(\n",
    "    data[:-delay],\n",
    "    targets=y[delay:],\n",
    "    sampling_rate=sampling_rate, sequence_length=sequence_length,\n",
    "    batch_size=batch_size,\n",
    "    start_index=n_tr+n_val  # last 20% for test\n",
    "    )\n",
    "\n",
    "for X, target in train_dataset:\n",
    "    print(\"X shape:\", X.shape)\n",
    "    print(\"target shape:\", target.shape)\n",
    "    #print(X[:, :, y_idx] * std_tr[y_idx] + mean_tr[y_idx])\n",
    "    #print(target)\n",
    "    break  # so we only print once"
   ]
  },
  {
   "cell_type": "code",
   "execution_count": 12,
   "metadata": {
    "id": "u_v2rAW_W4kQ"
   },
   "outputs": [],
   "source": [
    "# Function to plot history with neural networks\n",
    "def plot_hist_regression(hist, y):\n",
    "  n_ = len(hist.history['mae'])\n",
    "  plt.plot(range(1, n_+1), 100*np.asarray(hist.history['mae']), 'bo', label='MAE on training set')\n",
    "  plt.plot(range(1, n_+1), 100*np.asarray(hist.history['val_mae']), 'b', label='MAE on validation set')\n",
    "  plt.legend()\n",
    "  plt.xlabel(\"Epoch\") \n",
    "  plt.ylabel(\"MAE (degrees)\")\n",
    "  plt.ylim(0, 100)\n",
    "  plt.axhline(y=y)\n",
    "  plt.show()"
   ]
  },
  {
   "cell_type": "markdown",
   "metadata": {
    "id": "WlhjIvZR_a0Q"
   },
   "source": [
    "## Establishing a baseline\n"
   ]
  },
  {
   "cell_type": "markdown",
   "metadata": {
    "id": "rloJamyvWPWj"
   },
   "source": [
    "### Common sense, no ML baseline\n",
    "\n",
    "- Sanity check\n",
    "- To establish whether ML methods are actually any good\n",
    "\n",
    "Tomorrow's temperature is likely to be close to today's: let's predict that the temperature 24 hours from now will be equal to the temperature right now.\n",
    "\n",
    "We'll use the MAE as metric"
   ]
  },
  {
   "cell_type": "code",
   "execution_count": 13,
   "metadata": {
    "colab": {
     "base_uri": "https://localhost:8080/"
    },
    "id": "MUY5acIf_a0Q",
    "outputId": "dcdc5e72-a117-43ca-c7f5-7c31437c7444"
   },
   "outputs": [
    {
     "name": "stdout",
     "output_type": "stream",
     "text": [
      "MAE on train set = 2.56 (degrees Celsius)\n",
      "MAE on validation set = 2.69 (degrees Celsius)\n",
      "MAE on test set = 2.85 (degrees Celsius)\n"
     ]
    }
   ],
   "source": [
    "def naive_method(dataset, mean, std):\n",
    "    error = 0\n",
    "    samples = 0\n",
    "    count = 0\n",
    "    for X, target in dataset:\n",
    "        pred = X[:, -1, y_idx] * std + mean  # predict last available temperature and un-standardise\n",
    "        #print(X.shape, target.shape, pred.shape)  # [batch_size, sequence_length, n_feats]\n",
    "        #print(X[:, -1, y_idx] * std + mean, target)\n",
    "        error += np.sum(np.abs(pred - target))\n",
    "        samples += X.shape[0]  # batch_size\n",
    "        count += 1\n",
    "    return error / samples / batch_size # average\n",
    "\n",
    "\n",
    "print('MAE on train set = %.2f (degrees Celsius)' % naive_method(train_dataset, mean_tr[y_idx], std_tr[y_idx]))\n",
    "print('MAE on validation set = %.2f (degrees Celsius)' % naive_method(val_dataset, mean_tr[y_idx], std_tr[y_idx]))\n",
    "print('MAE on test set = %.2f (degrees Celsius)' % naive_method(test_dataset, mean_tr[y_idx], std_tr[y_idx]))\n",
    "# Save MAE on validation for later\n",
    "baseline = naive_method(val_dataset, mean_tr[y_idx], std_tr[y_idx])"
   ]
  },
  {
   "cell_type": "markdown",
   "metadata": {
    "id": "znycUtxiJmAF"
   },
   "source": [
    "This baseline achieves a validation MAE of 2.69 degrees and a test MAE of 2.85 degrees. So if we assume that tomorrow's temperature will be the same as today's, we'll be off by less than 3 degrees on average.\n",
    "\n",
    "Not too bad, but surely we can do better!"
   ]
  },
  {
   "cell_type": "markdown",
   "metadata": {
    "id": "7c-duA1Z_a0R"
   },
   "source": [
    "### Simple ML baseline\n",
    "\n",
    "\n"
   ]
  },
  {
   "cell_type": "code",
   "execution_count": 14,
   "metadata": {
    "colab": {
     "base_uri": "https://localhost:8080/"
    },
    "id": "fWGqpICHJlRe",
    "outputId": "23ab2130-e029-42ac-95ae-a1174fb801d5"
   },
   "outputs": [
    {
     "name": "stdout",
     "output_type": "stream",
     "text": [
      "Model: \"sequential\"\n",
      "_________________________________________________________________\n",
      "Layer (type)                 Output Shape              Param #   \n",
      "=================================================================\n",
      "flatten (Flatten)            (None, 84)                0         \n",
      "_________________________________________________________________\n",
      "dense (Dense)                (None, 10)                850       \n",
      "_________________________________________________________________\n",
      "dense_1 (Dense)              (None, 1)                 11        \n",
      "=================================================================\n",
      "Total params: 861\n",
      "Trainable params: 861\n",
      "Non-trainable params: 0\n",
      "_________________________________________________________________\n"
     ]
    }
   ],
   "source": [
    "# To get some practice with neural networks, we'll try a 1-layer NN with nothing fancy.\n",
    "\n",
    "model_dense = models.Sequential()\n",
    "model_dense.add(layers.Flatten(input_shape=(sequence_length, len(df.columns)-1)))  # we need to specify the input shape or we won't be able to see the summary\n",
    "model_dense.add(layers.Dense(10, activation='relu'))\n",
    "model_dense.add(layers.Dense(1))\n",
    "\n",
    "model_dense.summary()"
   ]
  },
  {
   "cell_type": "code",
   "execution_count": 15,
   "metadata": {
    "colab": {
     "base_uri": "https://localhost:8080/"
    },
    "id": "p0Hz1rX8LMfT",
    "outputId": "e9674789-48af-4682-f7fa-aec2fc10cb4a"
   },
   "outputs": [
    {
     "name": "stdout",
     "output_type": "stream",
     "text": [
      "Epoch 1/20\n",
      "80/80 [==============================] - 0s 2ms/step - loss: 91.4642 - mae: 8.5207 - val_loss: 70.7812 - val_mae: 7.3936\n",
      "Epoch 2/20\n",
      "80/80 [==============================] - 0s 1ms/step - loss: 54.2754 - mae: 6.4387 - val_loss: 41.7637 - val_mae: 5.4087\n",
      "Epoch 3/20\n",
      "80/80 [==============================] - 0s 2ms/step - loss: 34.0986 - mae: 4.8892 - val_loss: 31.6209 - val_mae: 4.5566\n",
      "Epoch 4/20\n",
      "80/80 [==============================] - 0s 1ms/step - loss: 28.3330 - mae: 4.3957 - val_loss: 27.8545 - val_mae: 4.2158\n",
      "Epoch 5/20\n",
      "80/80 [==============================] - 0s 962us/step - loss: 25.3414 - mae: 4.1339 - val_loss: 25.3286 - val_mae: 4.0052\n",
      "Epoch 6/20\n",
      "80/80 [==============================] - 0s 2ms/step - loss: 23.0790 - mae: 3.9437 - val_loss: 23.3137 - val_mae: 3.8397\n",
      "Epoch 7/20\n",
      "80/80 [==============================] - 0s 1ms/step - loss: 21.2100 - mae: 3.7828 - val_loss: 21.5509 - val_mae: 3.6867\n",
      "Epoch 8/20\n",
      "80/80 [==============================] - 0s 1ms/step - loss: 19.5912 - mae: 3.6418 - val_loss: 19.9588 - val_mae: 3.5457\n",
      "Epoch 9/20\n",
      "80/80 [==============================] - 0s 918us/step - loss: 18.1532 - mae: 3.5110 - val_loss: 18.4972 - val_mae: 3.4096\n",
      "Epoch 10/20\n",
      "80/80 [==============================] - 0s 987us/step - loss: 16.8737 - mae: 3.3881 - val_loss: 17.1820 - val_mae: 3.2864\n",
      "Epoch 11/20\n",
      "80/80 [==============================] - 0s 1ms/step - loss: 15.7226 - mae: 3.2723 - val_loss: 15.9722 - val_mae: 3.1699\n",
      "Epoch 12/20\n",
      "80/80 [==============================] - 0s 1ms/step - loss: 14.6861 - mae: 3.1625 - val_loss: 14.8953 - val_mae: 3.0680\n",
      "Epoch 13/20\n",
      "80/80 [==============================] - 0s 1ms/step - loss: 13.7535 - mae: 3.0555 - val_loss: 13.9318 - val_mae: 2.9761\n",
      "Epoch 14/20\n",
      "80/80 [==============================] - 0s 1ms/step - loss: 12.9187 - mae: 2.9512 - val_loss: 13.1229 - val_mae: 2.8964\n",
      "Epoch 15/20\n",
      "80/80 [==============================] - 0s 1ms/step - loss: 12.1842 - mae: 2.8552 - val_loss: 12.4436 - val_mae: 2.8261\n",
      "Epoch 16/20\n",
      "80/80 [==============================] - 0s 1ms/step - loss: 11.5286 - mae: 2.7651 - val_loss: 11.9206 - val_mae: 2.7693\n",
      "Epoch 17/20\n",
      "80/80 [==============================] - 0s 958us/step - loss: 10.9505 - mae: 2.6853 - val_loss: 11.4514 - val_mae: 2.7155\n",
      "Epoch 18/20\n",
      "80/80 [==============================] - 0s 996us/step - loss: 10.4349 - mae: 2.6137 - val_loss: 11.1474 - val_mae: 2.6819\n",
      "Epoch 19/20\n",
      "80/80 [==============================] - 0s 985us/step - loss: 9.9976 - mae: 2.5528 - val_loss: 10.8890 - val_mae: 2.6517\n",
      "Epoch 20/20\n",
      "80/80 [==============================] - 0s 1ms/step - loss: 9.6078 - mae: 2.4999 - val_loss: 10.6701 - val_mae: 2.6252\n"
     ]
    }
   ],
   "source": [
    "n_epochs = 20\n",
    "\n",
    "model_dense.compile(optimizer='rmsprop', loss='mse', metrics=['mae'])\n",
    "history_dense = model_dense.fit(train_dataset, epochs=n_epochs, validation_data=val_dataset)"
   ]
  },
  {
   "cell_type": "code",
   "execution_count": 16,
   "metadata": {
    "colab": {
     "base_uri": "https://localhost:8080/",
     "height": 283
    },
    "id": "aBRYn-AKMCi4",
    "outputId": "7c1891b1-da33-4052-e71b-e0876c7bdbca"
   },
   "outputs": [
    {
     "data": {
      "image/png": "[encoded data removed]",
      "text/plain": [
       "<Figure size 432x288 with 1 Axes>"
      ]
     },
     "metadata": {
      "needs_background": "light"
     },
     "output_type": "display_data"
    }
   ],
   "source": [
    "# Plot MAE cures for validation and training\n",
    "plot_hist_regression(history_dense, baseline)"
   ]
  },
  {
   "cell_type": "markdown",
   "metadata": {
    "id": "1EJywOA5NJa9"
   },
   "source": [
    "Validation loss is worse than what we had with our common-sense baseline, and we're already overfitting (MAE on training set is lower than on validation set). It turns out our previous baseline is not as easy to outperform as we thought!\n",
    "\n",
    "Remember our 'hypothesis space'? Using 2 Dense layers doesn't seem to be very useful in this case. We need other types of layers for this problem."
   ]
  },
  {
   "cell_type": "code",
   "execution_count": 17,
   "metadata": {
    "colab": {
     "base_uri": "https://localhost:8080/"
    },
    "id": "k6PADykQPIjq",
    "outputId": "0c3d48b1-f910-4648-d08e-e6147fc3b5b6"
   },
   "outputs": [
    {
     "name": "stdout",
     "output_type": "stream",
     "text": [
      "Model: \"sequential_1\"\n",
      "_________________________________________________________________\n",
      "Layer (type)                 Output Shape              Param #   \n",
      "=================================================================\n",
      "conv1d (Conv1D)              (None, 8, 8)              344       \n",
      "_________________________________________________________________\n",
      "max_pooling1d (MaxPooling1D) (None, 4, 8)              0         \n",
      "_________________________________________________________________\n",
      "conv1d_1 (Conv1D)            (None, 2, 8)              200       \n",
      "_________________________________________________________________\n",
      "max_pooling1d_1 (MaxPooling1 (None, 1, 8)              0         \n",
      "_________________________________________________________________\n",
      "global_average_pooling1d (Gl (None, 8)                 0         \n",
      "_________________________________________________________________\n",
      "dense_2 (Dense)              (None, 1)                 9         \n",
      "=================================================================\n",
      "Total params: 553\n",
      "Trainable params: 553\n",
      "Non-trainable params: 0\n",
      "_________________________________________________________________\n"
     ]
    }
   ],
   "source": [
    "# We know that CNNs take advantage of neighbouring values, so why don't we try that?\n",
    "\n",
    "# In addition to the Conv2D layers we saw last week, there are Conv1D and Conv3D layers. \n",
    "# Conv1D layers rely on 1D windows that slide across an input sequence (imagine a 1D image)\n",
    "\n",
    "model_cnn = models.Sequential()\n",
    "model_cnn.add(layers.Conv1D(8, 7, activation='relu', input_shape=(sequence_length, len(df.columns)-1)))\n",
    "model_cnn.add(layers.MaxPooling1D(2))\n",
    "model_cnn.add(layers.Conv1D(8, 3, activation='relu'))\n",
    "model_cnn.add(layers.MaxPooling1D(2))\n",
    "model_cnn.add(layers.GlobalAveragePooling1D())\n",
    "model_cnn.add(layers.Dense(1))\n",
    "\n",
    "model_cnn.summary()"
   ]
  },
  {
   "cell_type": "code",
   "execution_count": 18,
   "metadata": {
    "colab": {
     "base_uri": "https://localhost:8080/"
    },
    "id": "PSGRJSulQs22",
    "outputId": "44faf343-33d6-44d4-8d70-2ae98c010db0"
   },
   "outputs": [
    {
     "name": "stdout",
     "output_type": "stream",
     "text": [
      "Epoch 1/20\n",
      "80/80 [==============================] - 0s 2ms/step - loss: 109.2575 - mae: 9.1628 - val_loss: 73.7779 - val_mae: 7.2651\n",
      "Epoch 2/20\n",
      "80/80 [==============================] - 0s 1ms/step - loss: 43.4117 - mae: 5.5680 - val_loss: 20.0502 - val_mae: 3.5514\n",
      "Epoch 3/20\n",
      "80/80 [==============================] - 0s 1ms/step - loss: 15.1632 - mae: 3.1677 - val_loss: 16.6907 - val_mae: 3.0569\n",
      "Epoch 4/20\n",
      "80/80 [==============================] - 0s 1ms/step - loss: 13.1751 - mae: 2.9383 - val_loss: 16.7244 - val_mae: 2.9966\n",
      "Epoch 5/20\n",
      "80/80 [==============================] - 0s 1ms/step - loss: 12.3504 - mae: 2.8422 - val_loss: 16.5029 - val_mae: 2.9565\n",
      "Epoch 6/20\n",
      "80/80 [==============================] - 0s 1ms/step - loss: 11.7892 - mae: 2.7727 - val_loss: 16.1411 - val_mae: 2.9254\n",
      "Epoch 7/20\n",
      "80/80 [==============================] - 0s 1ms/step - loss: 11.3336 - mae: 2.7149 - val_loss: 15.7573 - val_mae: 2.8962\n",
      "Epoch 8/20\n",
      "80/80 [==============================] - 0s 1ms/step - loss: 10.9477 - mae: 2.6661 - val_loss: 15.5175 - val_mae: 2.8807\n",
      "Epoch 9/20\n",
      "80/80 [==============================] - 0s 1ms/step - loss: 10.6129 - mae: 2.6235 - val_loss: 15.1422 - val_mae: 2.8565\n",
      "Epoch 10/20\n",
      "80/80 [==============================] - 0s 1ms/step - loss: 10.3185 - mae: 2.5858 - val_loss: 14.8256 - val_mae: 2.8371\n",
      "Epoch 11/20\n",
      "80/80 [==============================] - 0s 1ms/step - loss: 10.0678 - mae: 2.5537 - val_loss: 14.5807 - val_mae: 2.8204\n",
      "Epoch 12/20\n",
      "80/80 [==============================] - 0s 1ms/step - loss: 9.8431 - mae: 2.5244 - val_loss: 14.2934 - val_mae: 2.8007\n",
      "Epoch 13/20\n",
      "80/80 [==============================] - 0s 1ms/step - loss: 9.6373 - mae: 2.4979 - val_loss: 14.0374 - val_mae: 2.7821\n",
      "Epoch 14/20\n",
      "80/80 [==============================] - 0s 969us/step - loss: 9.4494 - mae: 2.4736 - val_loss: 13.7701 - val_mae: 2.7642\n",
      "Epoch 15/20\n",
      "80/80 [==============================] - 0s 1ms/step - loss: 9.2843 - mae: 2.4520 - val_loss: 13.5776 - val_mae: 2.7497\n",
      "Epoch 16/20\n",
      "80/80 [==============================] - 0s 1ms/step - loss: 9.1274 - mae: 2.4307 - val_loss: 13.3812 - val_mae: 2.7346\n",
      "Epoch 17/20\n",
      "80/80 [==============================] - 0s 1ms/step - loss: 8.9782 - mae: 2.4099 - val_loss: 13.1674 - val_mae: 2.7180\n",
      "Epoch 18/20\n",
      "80/80 [==============================] - 0s 1ms/step - loss: 8.8454 - mae: 2.3914 - val_loss: 12.9566 - val_mae: 2.7008\n",
      "Epoch 19/20\n",
      "80/80 [==============================] - 0s 966us/step - loss: 8.7150 - mae: 2.3733 - val_loss: 12.8136 - val_mae: 2.6877\n",
      "Epoch 20/20\n",
      "80/80 [==============================] - 0s 969us/step - loss: 8.5912 - mae: 2.3560 - val_loss: 12.6553 - val_mae: 2.6734\n"
     ]
    }
   ],
   "source": [
    "model_cnn.compile(optimizer='rmsprop', loss='mse', metrics=['mae'])\n",
    "history_cnn = model_cnn.fit(train_dataset, epochs=n_epochs,\n",
    "                            validation_data=val_dataset)"
   ]
  },
  {
   "cell_type": "code",
   "execution_count": 19,
   "metadata": {
    "colab": {
     "base_uri": "https://localhost:8080/",
     "height": 279
    },
    "id": "6bB6lzLYSG-u",
    "outputId": "8062cd61-ad7a-45a8-c123-048505f8985e"
   },
   "outputs": [
    {
     "data": {
      "image/png": "[encoded data removed]",
      "text/plain": [
       "<Figure size 432x288 with 1 Axes>"
      ]
     },
     "metadata": {
      "needs_background": "light"
     },
     "output_type": "display_data"
    }
   ],
   "source": [
    "# Plot MAE cures for validation and training\n",
    "plot_hist_regression(history_cnn, baseline)"
   ]
  },
  {
   "cell_type": "markdown",
   "metadata": {
    "id": "Kc2iMPSHViL1"
   },
   "source": [
    "This model isn't any better, with a validation MAE of 2.77 degrees (also worse than the 'common-sense approach' that we tried at first), and we're overfitting a bit too.\n",
    "\n",
    "Why?\n",
    "\n",
    "In timeseries, order matters a lot: the recent past is more informative than data from 5 days ago, and convolutional layers don't take advantage of this fact -- max pooling and global average pooling layers actually destroy this order information."
   ]
  },
  {
   "cell_type": "markdown",
   "metadata": {
    "id": "3ozUAZX__a0R"
   },
   "source": [
    "## Long Short Term Memory (LSTM) Neural Networks\n",
    "\n",
    "\n"
   ]
  },
  {
   "cell_type": "code",
   "execution_count": 20,
   "metadata": {
    "colab": {
     "base_uri": "https://localhost:8080/"
    },
    "id": "2dWfiaUw_a0R",
    "outputId": "dd802c62-1be0-45b4-8d14-1f2a606b0d55"
   },
   "outputs": [
    {
     "name": "stdout",
     "output_type": "stream",
     "text": [
      "Model: \"sequential_2\"\n",
      "_________________________________________________________________\n",
      "Layer (type)                 Output Shape              Param #   \n",
      "=================================================================\n",
      "lstm (LSTM)                  (None, 20)                2160      \n",
      "_________________________________________________________________\n",
      "dense_3 (Dense)              (None, 1)                 21        \n",
      "=================================================================\n",
      "Total params: 2,181\n",
      "Trainable params: 2,181\n",
      "Non-trainable params: 0\n",
      "_________________________________________________________________\n"
     ]
    }
   ],
   "source": [
    "# 1-layer LSTM\n",
    "\n",
    "model_lstm1 = models.Sequential()\n",
    "model_lstm1.add(layers.LSTM(20, input_shape=(sequence_length, len(df.columns)-1)))\n",
    "model_lstm1.add(layers.Dense(1))\n",
    "\n",
    "model_lstm1.summary()"
   ]
  },
  {
   "cell_type": "code",
   "execution_count": 21,
   "metadata": {
    "id": "DMst2Mp0R0Xi"
   },
   "outputs": [],
   "source": [
    "n_epochs = 20"
   ]
  },
  {
   "cell_type": "code",
   "execution_count": 22,
   "metadata": {
    "colab": {
     "base_uri": "https://localhost:8080/"
    },
    "id": "Pff2tZQHXb-z",
    "outputId": "7a1028ea-cda1-4359-dfa8-a986de309d50"
   },
   "outputs": [
    {
     "name": "stdout",
     "output_type": "stream",
     "text": [
      "Epoch 1/20\n",
      "80/80 [==============================] - 1s 4ms/step - loss: 138.5412 - mae: 10.5535 - val_loss: 117.1210 - val_mae: 9.5089\n",
      "Epoch 2/20\n",
      "80/80 [==============================] - 0s 4ms/step - loss: 92.1898 - mae: 8.3214 - val_loss: 63.6037 - val_mae: 6.4730\n",
      "Epoch 3/20\n",
      "80/80 [==============================] - 0s 4ms/step - loss: 52.0463 - mae: 5.9550 - val_loss: 42.2489 - val_mae: 5.1190\n",
      "Epoch 4/20\n",
      "80/80 [==============================] - 0s 3ms/step - loss: 36.5431 - mae: 4.9267 - val_loss: 32.6200 - val_mae: 4.5250\n",
      "Epoch 5/20\n",
      "80/80 [==============================] - 0s 3ms/step - loss: 28.2553 - mae: 4.3194 - val_loss: 26.5775 - val_mae: 4.1139\n",
      "Epoch 6/20\n",
      "80/80 [==============================] - 0s 3ms/step - loss: 22.8116 - mae: 3.8733 - val_loss: 22.2715 - val_mae: 3.7743\n",
      "Epoch 7/20\n",
      "80/80 [==============================] - 0s 3ms/step - loss: 18.7662 - mae: 3.5109 - val_loss: 18.9012 - val_mae: 3.4755\n",
      "Epoch 8/20\n",
      "80/80 [==============================] - 0s 3ms/step - loss: 15.6509 - mae: 3.2002 - val_loss: 16.2221 - val_mae: 3.2102\n",
      "Epoch 9/20\n",
      "80/80 [==============================] - 0s 3ms/step - loss: 13.2798 - mae: 2.9349 - val_loss: 14.0828 - val_mae: 2.9858\n",
      "Epoch 10/20\n",
      "80/80 [==============================] - 0s 3ms/step - loss: 11.4376 - mae: 2.7129 - val_loss: 12.3835 - val_mae: 2.8051\n",
      "Epoch 11/20\n",
      "80/80 [==============================] - 0s 3ms/step - loss: 9.9794 - mae: 2.5270 - val_loss: 11.0468 - val_mae: 2.6542\n",
      "Epoch 12/20\n",
      "80/80 [==============================] - 0s 3ms/step - loss: 8.8249 - mae: 2.3692 - val_loss: 9.9796 - val_mae: 2.5263\n",
      "Epoch 13/20\n",
      "80/80 [==============================] - 0s 3ms/step - loss: 7.9136 - mae: 2.2408 - val_loss: 9.1407 - val_mae: 2.4237\n",
      "Epoch 14/20\n",
      "80/80 [==============================] - 0s 3ms/step - loss: 7.2188 - mae: 2.1423 - val_loss: 8.4917 - val_mae: 2.3428\n",
      "Epoch 15/20\n",
      "80/80 [==============================] - 0s 3ms/step - loss: 6.7007 - mae: 2.0678 - val_loss: 7.9863 - val_mae: 2.2809\n",
      "Epoch 16/20\n",
      "80/80 [==============================] - 0s 3ms/step - loss: 6.3068 - mae: 2.0050 - val_loss: 7.5809 - val_mae: 2.2256\n",
      "Epoch 17/20\n",
      "80/80 [==============================] - 0s 3ms/step - loss: 6.0044 - mae: 1.9552 - val_loss: 7.2540 - val_mae: 2.1755\n",
      "Epoch 18/20\n",
      "80/80 [==============================] - 0s 3ms/step - loss: 5.7691 - mae: 1.9150 - val_loss: 6.9909 - val_mae: 2.1327\n",
      "Epoch 19/20\n",
      "80/80 [==============================] - 0s 3ms/step - loss: 5.5818 - mae: 1.8825 - val_loss: 6.7766 - val_mae: 2.0957\n",
      "Epoch 20/20\n",
      "80/80 [==============================] - 0s 3ms/step - loss: 5.4271 - mae: 1.8556 - val_loss: 6.5983 - val_mae: 2.0634\n"
     ]
    }
   ],
   "source": [
    "model_lstm1.compile(optimizer='rmsprop', loss='mse', metrics=['mae'])\n",
    "history_lstm1 = model_lstm1.fit(train_dataset, epochs=n_epochs,\n",
    "                            validation_data=val_dataset)"
   ]
  },
  {
   "cell_type": "raw",
   "metadata": {
    "colab": {
     "base_uri": "https://localhost:8080/",
     "height": 279
    },
    "id": "hr-bgDUvXmvS",
    "outputId": "9462df20-d32e-45db-ed9d-af5786c6ebdd"
   },
   "source": [
    "# Plot MAE cures for validation and training\n",
    "plot_hist_regression(history_lstm1, baseline)\n"
   ]
  },
  {
   "cell_type": "code",
   "execution_count": 23,
   "metadata": {
    "colab": {
     "base_uri": "https://localhost:8080/"
    },
    "id": "0fFZvXXUcQ67",
    "outputId": "8ac06bad-6b70-4bb6-e4f2-964253e5fa03"
   },
   "outputs": [
    {
     "name": "stdout",
     "output_type": "stream",
     "text": [
      "31/31 [==============================] - 0s 1ms/step - loss: 7.6181 - mae: 2.1375\n",
      "Test MAE = 2.14 degrees\n"
     ]
    }
   ],
   "source": [
    "print('Test MAE = %.2f degrees' % model_lstm1.evaluate(test_dataset)[1])"
   ]
  },
  {
   "cell_type": "markdown",
   "metadata": {
    "id": "bYSWwI1aXvwL"
   },
   "source": [
    "Success! We finally beat the common-sense baseline! The validation MAE now is 2.12 degrees, and the test MAE is 2.27.\n",
    "\n",
    "Why do LSTM layers work? Let's go back to the slides"
   ]
  },
  {
   "cell_type": "code",
   "execution_count": 24,
   "metadata": {
    "colab": {
     "base_uri": "https://localhost:8080/"
    },
    "id": "acSYakeOcokB",
    "outputId": "2fb126f8-5e20-4748-884a-0ca6b8670f03"
   },
   "outputs": [
    {
     "name": "stdout",
     "output_type": "stream",
     "text": [
      "Model: \"sequential_3\"\n",
      "_________________________________________________________________\n",
      "Layer (type)                 Output Shape              Param #   \n",
      "=================================================================\n",
      "lstm_1 (LSTM)                (None, 20)                2160      \n",
      "_________________________________________________________________\n",
      "dropout (Dropout)            (None, 20)                0         \n",
      "_________________________________________________________________\n",
      "dense_4 (Dense)              (None, 1)                 21        \n",
      "=================================================================\n",
      "Total params: 2,181\n",
      "Trainable params: 2,181\n",
      "Non-trainable params: 0\n",
      "_________________________________________________________________\n"
     ]
    }
   ],
   "source": [
    "# Adding dropout\n",
    "\n",
    "model_lstm2 = models.Sequential()\n",
    "model_lstm2.add(layers.LSTM(20, input_shape=(sequence_length, len(df.columns)-1), recurrent_dropout=0.25))\n",
    "model_lstm2.add(layers.Dropout(0.4))\n",
    "model_lstm2.add(layers.Dense(1))\n",
    "\n",
    "model_lstm2.summary()"
   ]
  },
  {
   "cell_type": "code",
   "execution_count": 25,
   "metadata": {
    "colab": {
     "base_uri": "https://localhost:8080/"
    },
    "id": "LvRnf9TWSWf9",
    "outputId": "af247ccc-7255-4ca4-b8db-192913fc835a"
   },
   "outputs": [
    {
     "name": "stdout",
     "output_type": "stream",
     "text": [
      "Epoch 1/20\n",
      "80/80 [==============================] - 1s 6ms/step - loss: 135.6447 - mae: 10.5028 - val_loss: 110.7889 - val_mae: 9.3669\n",
      "Epoch 2/20\n",
      "80/80 [==============================] - 0s 5ms/step - loss: 87.7855 - mae: 8.2447 - val_loss: 56.0489 - val_mae: 6.0772\n",
      "Epoch 3/20\n",
      "80/80 [==============================] - 0s 4ms/step - loss: 45.0744 - mae: 5.4772 - val_loss: 35.6496 - val_mae: 4.6925\n",
      "Epoch 4/20\n",
      "80/80 [==============================] - 0s 4ms/step - loss: 33.6861 - mae: 4.7220 - val_loss: 27.7101 - val_mae: 4.1653\n",
      "Epoch 5/20\n",
      "80/80 [==============================] - 0s 4ms/step - loss: 26.5222 - mae: 4.1387 - val_loss: 22.8593 - val_mae: 3.7870\n",
      "Epoch 6/20\n",
      "80/80 [==============================] - 0s 4ms/step - loss: 23.0731 - mae: 3.8327 - val_loss: 19.4836 - val_mae: 3.5053\n",
      "Epoch 7/20\n",
      "80/80 [==============================] - 0s 4ms/step - loss: 21.1011 - mae: 3.6401 - val_loss: 16.7711 - val_mae: 3.2324\n",
      "Epoch 8/20\n",
      "80/80 [==============================] - 0s 4ms/step - loss: 18.0610 - mae: 3.3655 - val_loss: 15.3531 - val_mae: 3.1119\n",
      "Epoch 9/20\n",
      "80/80 [==============================] - 0s 4ms/step - loss: 15.6770 - mae: 3.1449 - val_loss: 13.2459 - val_mae: 2.8722\n",
      "Epoch 10/20\n",
      "80/80 [==============================] - 0s 4ms/step - loss: 14.8948 - mae: 3.0560 - val_loss: 12.0160 - val_mae: 2.7454\n",
      "Epoch 11/20\n",
      "80/80 [==============================] - 0s 4ms/step - loss: 14.5355 - mae: 3.0248 - val_loss: 11.2099 - val_mae: 2.6706\n",
      "Epoch 12/20\n",
      "80/80 [==============================] - 0s 4ms/step - loss: 12.7917 - mae: 2.8251 - val_loss: 10.1132 - val_mae: 2.5234\n",
      "Epoch 13/20\n",
      "80/80 [==============================] - 0s 5ms/step - loss: 13.4744 - mae: 2.8812 - val_loss: 9.6269 - val_mae: 2.4681\n",
      "Epoch 14/20\n",
      "80/80 [==============================] - 0s 4ms/step - loss: 12.7625 - mae: 2.8321 - val_loss: 9.3264 - val_mae: 2.4394\n",
      "Epoch 15/20\n",
      "80/80 [==============================] - 0s 4ms/step - loss: 12.4225 - mae: 2.7943 - val_loss: 8.7628 - val_mae: 2.3595\n",
      "Epoch 16/20\n",
      "80/80 [==============================] - 0s 4ms/step - loss: 12.2492 - mae: 2.7965 - val_loss: 8.1654 - val_mae: 2.2723\n",
      "Epoch 17/20\n",
      "80/80 [==============================] - 0s 4ms/step - loss: 11.2485 - mae: 2.6820 - val_loss: 8.1147 - val_mae: 2.2707\n",
      "Epoch 18/20\n",
      "80/80 [==============================] - 0s 4ms/step - loss: 12.0866 - mae: 2.7909 - val_loss: 7.7979 - val_mae: 2.2422\n",
      "Epoch 19/20\n",
      "80/80 [==============================] - 0s 4ms/step - loss: 11.1997 - mae: 2.6303 - val_loss: 7.3710 - val_mae: 2.1660\n",
      "Epoch 20/20\n",
      "80/80 [==============================] - 0s 4ms/step - loss: 10.5939 - mae: 2.6055 - val_loss: 7.4388 - val_mae: 2.1889\n"
     ]
    }
   ],
   "source": [
    "model_lstm2.compile(optimizer='rmsprop', loss='mse', metrics=['mae'])\n",
    "history_lstm2 = model_lstm2.fit(train_dataset, epochs=n_epochs,\n",
    "                            validation_data=val_dataset)"
   ]
  },
  {
   "cell_type": "code",
   "execution_count": 26,
   "metadata": {
    "colab": {
     "base_uri": "https://localhost:8080/",
     "height": 279
    },
    "id": "cWpm-j9iSck1",
    "outputId": "cf66d132-b95f-456c-d6a4-86c9d28a5aef"
   },
   "outputs": [
    {
     "data": {
      "image/png": "[encoded data removed]",
      "text/plain": [
       "<Figure size 432x288 with 1 Axes>"
      ]
     },
     "metadata": {
      "needs_background": "light"
     },
     "output_type": "display_data"
    }
   ],
   "source": [
    "# Plot MAE cures for validation and training\n",
    "plot_hist_regression(history_lstm2, baseline)"
   ]
  },
  {
   "cell_type": "code",
   "execution_count": 27,
   "metadata": {
    "colab": {
     "base_uri": "https://localhost:8080/"
    },
    "id": "rAIQrQDVSmSM",
    "outputId": "8008e969-28d8-48e4-a402-720ada6f59a8"
   },
   "outputs": [
    {
     "name": "stdout",
     "output_type": "stream",
     "text": [
      "31/31 [==============================] - 0s 1ms/step - loss: 8.2802 - mae: 2.2466\n",
      "Test MAE = 2.25 degrees\n"
     ]
    }
   ],
   "source": [
    "print('Test MAE = %.2f degrees' % model_lstm2.evaluate(test_dataset)[1])"
   ]
  },
  {
   "cell_type": "markdown",
   "metadata": {
    "id": "H3OrpvE3S4gM"
   },
   "source": [
    "Note that validation set MAE is now lower than MAE on training set -- no longer overfitting. Validation MAE is 2.16 and test MAE is also 2.16.\n",
    "\n",
    "NOTE: This is a very simple dataset with very small differences in performance between different models.  You'll just have to take my word for it that *in general* this approach works. "
   ]
  },
  {
   "cell_type": "code",
   "execution_count": 28,
   "metadata": {
    "colab": {
     "base_uri": "https://localhost:8080/"
    },
    "id": "jq_ZDTttTX6_",
    "outputId": "3178ee55-e729-4191-b765-4e81bec2a291"
   },
   "outputs": [
    {
     "name": "stdout",
     "output_type": "stream",
     "text": [
      "Model: \"sequential_4\"\n",
      "_________________________________________________________________\n",
      "Layer (type)                 Output Shape              Param #   \n",
      "=================================================================\n",
      "lstm_2 (LSTM)                (None, 14, 20)            2160      \n",
      "_________________________________________________________________\n",
      "lstm_3 (LSTM)                (None, 20)                3280      \n",
      "_________________________________________________________________\n",
      "dropout_1 (Dropout)          (None, 20)                0         \n",
      "_________________________________________________________________\n",
      "dense_5 (Dense)              (None, 1)                 21        \n",
      "=================================================================\n",
      "Total params: 5,461\n",
      "Trainable params: 5,461\n",
      "Non-trainable params: 0\n",
      "_________________________________________________________________\n"
     ]
    }
   ],
   "source": [
    "# Performance in the previous figure can (maybe) still be improved\n",
    "# Let's try to add some more layers -- we can do this now that we're no longer overfitting\n",
    "\n",
    "model_lstm3 = models.Sequential()\n",
    "model_lstm3.add(layers.LSTM(20, input_shape=(sequence_length, len(df.columns)-1), recurrent_dropout=0.25, return_sequences=True))  # NEW!\n",
    "model_lstm3.add(layers.LSTM(20, input_shape=(sequence_length, len(df.columns)-1), recurrent_dropout=0.25))  # NEW!!\n",
    "model_lstm3.add(layers.Dropout(0.4))\n",
    "model_lstm3.add(layers.Dense(1))\n",
    "model_lstm3.summary()"
   ]
  },
  {
   "cell_type": "code",
   "execution_count": 29,
   "metadata": {
    "colab": {
     "base_uri": "https://localhost:8080/"
    },
    "id": "9xQXChtNUxzh",
    "outputId": "47adf7db-d1ea-4cbe-f2b2-2ea09bbbb96f"
   },
   "outputs": [
    {
     "name": "stdout",
     "output_type": "stream",
     "text": [
      "Epoch 1/60\n",
      "80/80 [==============================] - 2s 10ms/step - loss: 123.3985 - mae: 9.9275 - val_loss: 80.7091 - val_mae: 7.5351\n",
      "Epoch 2/60\n",
      "80/80 [==============================] - 1s 8ms/step - loss: 65.6270 - mae: 6.8079 - val_loss: 51.4859 - val_mae: 5.6654\n",
      "Epoch 3/60\n",
      "80/80 [==============================] - 1s 8ms/step - loss: 47.8909 - mae: 5.6934 - val_loss: 41.0514 - val_mae: 5.0609\n",
      "Epoch 4/60\n",
      "80/80 [==============================] - 1s 8ms/step - loss: 38.7692 - mae: 5.0559 - val_loss: 34.9982 - val_mae: 4.7568\n",
      "Epoch 5/60\n",
      "80/80 [==============================] - 1s 8ms/step - loss: 31.8130 - mae: 4.5812 - val_loss: 29.3014 - val_mae: 4.3645\n",
      "Epoch 6/60\n",
      "80/80 [==============================] - 1s 8ms/step - loss: 27.1917 - mae: 4.1808 - val_loss: 24.6126 - val_mae: 3.9940\n",
      "Epoch 7/60\n",
      "80/80 [==============================] - 1s 9ms/step - loss: 23.2903 - mae: 3.8388 - val_loss: 21.6870 - val_mae: 3.7671\n",
      "Epoch 8/60\n",
      "80/80 [==============================] - 1s 9ms/step - loss: 20.3858 - mae: 3.6022 - val_loss: 19.1351 - val_mae: 3.5293\n",
      "Epoch 9/60\n",
      "80/80 [==============================] - 1s 8ms/step - loss: 18.2445 - mae: 3.3671 - val_loss: 16.6552 - val_mae: 3.2690\n",
      "Epoch 10/60\n",
      "80/80 [==============================] - 1s 8ms/step - loss: 16.6904 - mae: 3.2658 - val_loss: 16.0888 - val_mae: 3.2524\n",
      "Epoch 11/60\n",
      "80/80 [==============================] - 1s 8ms/step - loss: 15.1458 - mae: 3.0593 - val_loss: 13.4668 - val_mae: 2.9374\n",
      "Epoch 12/60\n",
      "80/80 [==============================] - 1s 8ms/step - loss: 14.6130 - mae: 3.0456 - val_loss: 12.8510 - val_mae: 2.8827\n",
      "Epoch 13/60\n",
      "80/80 [==============================] - 1s 8ms/step - loss: 14.5915 - mae: 3.0177 - val_loss: 12.1311 - val_mae: 2.8092\n",
      "Epoch 14/60\n",
      "80/80 [==============================] - 1s 9ms/step - loss: 12.9969 - mae: 2.8773 - val_loss: 11.6643 - val_mae: 2.7562\n",
      "Epoch 15/60\n",
      "80/80 [==============================] - 1s 8ms/step - loss: 12.7485 - mae: 2.8575 - val_loss: 10.2793 - val_mae: 2.5762\n",
      "Epoch 16/60\n",
      "80/80 [==============================] - 1s 10ms/step - loss: 12.4493 - mae: 2.7814 - val_loss: 9.7633 - val_mae: 2.5118\n",
      "Epoch 17/60\n",
      "80/80 [==============================] - 1s 8ms/step - loss: 11.5426 - mae: 2.6883 - val_loss: 8.9275 - val_mae: 2.3930\n",
      "Epoch 18/60\n",
      "80/80 [==============================] - 1s 9ms/step - loss: 11.5066 - mae: 2.7226 - val_loss: 9.3800 - val_mae: 2.4839\n",
      "Epoch 19/60\n",
      "80/80 [==============================] - 1s 9ms/step - loss: 11.2546 - mae: 2.6876 - val_loss: 9.7548 - val_mae: 2.5455\n"
     ]
    }
   ],
   "source": [
    "model_lstm3.compile(optimizer='rmsprop', loss='mse', metrics=['mae'])\n",
    "\n",
    "callbacks = [EarlyStopping(monitor='val_mae', patience=2)]\n",
    "\n",
    "history_lstm3 = model_lstm3.fit(train_dataset, epochs=60,  # increased number of epochs\n",
    "                            validation_data=val_dataset,\n",
    "                            callbacks=callbacks)  # but added early stopping callback\n"
   ]
  },
  {
   "cell_type": "code",
   "execution_count": 30,
   "metadata": {
    "colab": {
     "base_uri": "https://localhost:8080/",
     "height": 314
    },
    "id": "PtFfB3YaU4k3",
    "outputId": "eb5fd379-362d-4cb4-d846-d6d264dccab1"
   },
   "outputs": [
    {
     "data": {
      "image/png": "[encoded data removed]",
      "text/plain": [
       "<Figure size 432x288 with 1 Axes>"
      ]
     },
     "metadata": {
      "needs_background": "light"
     },
     "output_type": "display_data"
    },
    {
     "name": "stdout",
     "output_type": "stream",
     "text": [
      "31/31 [==============================] - 0s 2ms/step - loss: 9.6977 - mae: 2.4617\n",
      "Test MAE = 2.46 degrees\n"
     ]
    }
   ],
   "source": [
    "# Plot MAE cures for validation and training\n",
    "plot_hist_regression(history_lstm3, baseline)\n",
    "print('Test MAE = %.2f degrees' % model_lstm3.evaluate(test_dataset)[1])"
   ]
  },
  {
   "cell_type": "markdown",
   "metadata": {
    "id": "eUJqRqp1XJnL"
   },
   "source": [
    "Validation MAE = 1.92 degrees\n",
    "\n",
    "Test MAE = 1.89 degrees\n"
   ]
  },
  {
   "cell_type": "markdown",
   "metadata": {
    "id": "zGEuNqw2csXj"
   },
   "source": [
    "# Text"
   ]
  },
  {
   "cell_type": "markdown",
   "metadata": {
    "id": "dtv0EjsTbwvm"
   },
   "source": [
    "## Data prep\n",
    "\n",
    "We'll try to predict whether the review for a movie is positive or negative looking only at the text of the review.\n",
    "\n",
    "We'll use the IMDB text dataset for this task, which is available on `keras.datasets` and described [here](https://keras.io/api/datasets/imdb/). \n",
    "\n",
    "We'll merge the training and test sets and use 60% for training, 20% for validation, and 20% for testing.\n",
    "\n",
    "\n",
    "As this is a binary classificationp problem, we'll use the binary cross entropy loss function. We will keep track of accuracy when training and evaluating the model.\n"
   ]
  },
  {
   "cell_type": "code",
   "execution_count": 31,
   "metadata": {
    "id": "i-mH-8IGwGo1"
   },
   "outputs": [],
   "source": [
    "def plot_hist_classif(hist):\n",
    "  n_ = len(hist.history['accuracy'])\n",
    "  plt.plot(range(1, n_+1), 100*np.asarray(hist.history['accuracy']), 'bo', label='Accuracy on training set')\n",
    "  plt.plot(range(1, n_+1), 100*np.asarray(hist.history['val_accuracy']), 'b', label='Accuracy on validation set')\n",
    "  plt.legend()\n",
    "  plt.xlabel(\"Epoch\") \n",
    "  plt.ylabel(\"Accuracy\")\n",
    "  plt.ylim(0, 100)\n",
    "  plt.axhline(y=50)\n",
    "  plt.show()\n"
   ]
  },
  {
   "cell_type": "code",
   "execution_count": 32,
   "metadata": {
    "colab": {
     "base_uri": "https://localhost:8080/"
    },
    "id": "4TW3Vg49n5V-",
    "outputId": "3807222c-72f1-48b9-ec7e-a45788dc5790"
   },
   "outputs": [
    {
     "name": "stdout",
     "output_type": "stream",
     "text": [
      "Loading data...\n",
      "25000 train sequences (25000,)\n",
      "25000 test sequences (25000,)\n"
     ]
    }
   ],
   "source": [
    "max_features = 15000  # only consider the top 15k words\n",
    "maxlen = 500  # first 500 words of each review\n",
    "batch_size = 32\n",
    "\n",
    "print('Loading data...')\n",
    "# Load dataset\n",
    "(x_train, y_train), (x_test, y_test) = keras.datasets.imdb.load_data(num_words=max_features)\n",
    "print(len(x_train), 'train sequences', x_train.shape)\n",
    "print(len(x_test), 'test sequences', x_test.shape)"
   ]
  },
  {
   "cell_type": "code",
   "execution_count": 33,
   "metadata": {
    "colab": {
     "base_uri": "https://localhost:8080/"
    },
    "id": "8ApTb-jYtSOm",
    "outputId": "f51644cd-02a1-4c35-d903-5fc0d68a3b9b"
   },
   "outputs": [
    {
     "name": "stdout",
     "output_type": "stream",
     "text": [
      "0.5\n",
      "0.5\n"
     ]
    }
   ],
   "source": [
    "# How balanced is this dataset?\n",
    "print(np.sum(y_train)/len(y_train))\n",
    "print(np.sum(y_test)/len(y_test))"
   ]
  },
  {
   "cell_type": "code",
   "execution_count": 34,
   "metadata": {
    "colab": {
     "base_uri": "https://localhost:8080/"
    },
    "id": "Z53Fbicqr8tm",
    "outputId": "4d7c9122-1eca-46cb-a708-cfe4681d93c8"
   },
   "outputs": [
    {
     "name": "stdout",
     "output_type": "stream",
     "text": [
      "(50000,) (50000,)\n",
      "30000 train sequences (30000,)\n",
      "10000 validation sequences (10000,)\n",
      "10000 test sequences (10000,)\n"
     ]
    }
   ],
   "source": [
    "# Merge the two datasets and divide: 60% for training, 20% validation, 20% test\n",
    "x_, y_ = np.concatenate((x_train, x_test)), np.concatenate((y_train, y_test))\n",
    "print(x_.shape, y_.shape)\n",
    "x_train, x_test, y_train, y_test = train_test_split(x_, y_, test_size=0.4, random_state=10)  # 60/40 split\n",
    "x_val, x_test, y_val, y_test = train_test_split(x_test, y_test, test_size=0.5, random_state=10)  # 50/50 split\n",
    "print(len(x_train), 'train sequences', x_train.shape)\n",
    "print(len(x_val), 'validation sequences', x_val.shape)\n",
    "print(len(x_test), 'test sequences', x_test.shape)"
   ]
  },
  {
   "cell_type": "code",
   "execution_count": 35,
   "metadata": {
    "colab": {
     "base_uri": "https://localhost:8080/"
    },
    "id": "5v_Hy-r8o8pR",
    "outputId": "511de152-8560-4580-efce-a7fbdb3175d5"
   },
   "outputs": [
    {
     "data": {
      "text/plain": [
       "[1, 11531, 186, 8, 28, 6, 6482, 7, 269, 4042]"
      ]
     },
     "execution_count": 35,
     "metadata": {},
     "output_type": "execute_result"
    }
   ],
   "source": [
    "x_train[0][:10]  # numbers!!"
   ]
  },
  {
   "cell_type": "code",
   "execution_count": 36,
   "metadata": {
    "colab": {
     "base_uri": "https://localhost:8080/",
     "height": 105
    },
    "id": "rgEgNSLBpFwh",
    "outputId": "a820c43a-3177-45fc-bef4-10a804a18c86"
   },
   "outputs": [
    {
     "data": {
      "text/plain": [
       "\"the lilly horror in one is fatale br looks meaningless in bronson be showing as you debut film ample to and ingredients zombi ample they for series and thought she's all manipulate and believing in j show look early last quote desire tight interesting that's kind out is far shelter but of frame br and\""
      ]
     },
     "execution_count": 36,
     "metadata": {},
     "output_type": "execute_result"
    }
   ],
   "source": [
    "# We can explore what one of the reviews looks like at this point.\n",
    "\n",
    "# Retrieve the word index file that maps words to indices\n",
    "word_index = keras.datasets.imdb.get_word_index()\n",
    "# Reverse the word index to obtain a dict mapping indices to words (which is what we have)\n",
    "inverted_word_index = dict((i, word) for (word, i) in word_index.items())\n",
    "# Decode the first sequence in the dataset\n",
    "decoded_sequence = \" \".join(inverted_word_index[i] for i in x_train[0])\n",
    "decoded_sequence"
   ]
  },
  {
   "cell_type": "code",
   "execution_count": 37,
   "metadata": {
    "colab": {
     "base_uri": "https://localhost:8080/"
    },
    "id": "ibmO0V-gcthG",
    "outputId": "9422d91d-b296-497b-b038-964ab28ab33c"
   },
   "outputs": [
    {
     "name": "stdout",
     "output_type": "stream",
     "text": [
      "Pad sequences\n",
      "x_train shape: (30000, 500)\n",
      "x_val shape: (10000, 500)\n",
      "x_test shape: (10000, 500)\n"
     ]
    }
   ],
   "source": [
    "# Let's ensure all sequences have the same length through padding\n",
    "# - shorter reviews are padded with 0's\n",
    "# - longer reviews are cut\n",
    "print('Pad sequences')\n",
    "x_train = keras.preprocessing.sequence.pad_sequences(x_train, maxlen=maxlen)\n",
    "x_val = keras.preprocessing.sequence.pad_sequences(x_val, maxlen=maxlen)\n",
    "x_test = keras.preprocessing.sequence.pad_sequences(x_test, maxlen=maxlen)\n",
    "print('x_train shape:', x_train.shape)\n",
    "print('x_val shape:', x_val.shape)\n",
    "print('x_test shape:', x_test.shape)"
   ]
  },
  {
   "cell_type": "code",
   "execution_count": 38,
   "metadata": {
    "colab": {
     "base_uri": "https://localhost:8080/"
    },
    "id": "sBpQpwBAk44H",
    "outputId": "eb86c1c0-0cd1-479e-a4ef-3f58cbf6abb0"
   },
   "outputs": [
    {
     "name": "stdout",
     "output_type": "stream",
     "text": [
      "Model: \"sequential_5\"\n",
      "_________________________________________________________________\n",
      "Layer (type)                 Output Shape              Param #   \n",
      "=================================================================\n",
      "embedding (Embedding)        (None, 500, 128)          1920000   \n",
      "_________________________________________________________________\n",
      "dense_6 (Dense)              (None, 500, 64)           8256      \n",
      "_________________________________________________________________\n",
      "dropout_2 (Dropout)          (None, 500, 64)           0         \n",
      "_________________________________________________________________\n",
      "dense_7 (Dense)              (None, 500, 64)           4160      \n",
      "_________________________________________________________________\n",
      "dropout_3 (Dropout)          (None, 500, 64)           0         \n",
      "_________________________________________________________________\n",
      "flatten_1 (Flatten)          (None, 32000)             0         \n",
      "_________________________________________________________________\n",
      "dense_8 (Dense)              (None, 1)                 32001     \n",
      "=================================================================\n",
      "Total params: 1,964,417\n",
      "Trainable params: 1,964,417\n",
      "Non-trainable params: 0\n",
      "_________________________________________________________________\n"
     ]
    }
   ],
   "source": [
    "# Basic feedforward model\n",
    "model = models.Sequential()\n",
    "model.add(layers.Embedding(max_features, 128, input_length=maxlen))\n",
    "model.add(layers.Dense(64, activation='relu'))\n",
    "model.add(layers.Dropout(0.5))\n",
    "model.add(layers.Dense(64, activation='relu'))\n",
    "model.add(layers.Dropout(0.5))\n",
    "model.add(layers.Flatten())\n",
    "model.add(layers.Dense(1, activation=\"sigmoid\"))\n",
    "model.summary()"
   ]
  },
  {
   "cell_type": "code",
   "execution_count": 39,
   "metadata": {
    "colab": {
     "base_uri": "https://localhost:8080/"
    },
    "id": "-8c7tCS5vrC3",
    "outputId": "aab08477-7bd5-4394-b052-3faa0d266096"
   },
   "outputs": [
    {
     "name": "stdout",
     "output_type": "stream",
     "text": [
      "Epoch 1/20\n",
      "938/938 [==============================] - 24s 26ms/step - loss: 0.4349 - accuracy: 0.7708 - val_loss: 0.2698 - val_accuracy: 0.8897\n",
      "Epoch 2/20\n",
      "938/938 [==============================] - 26s 27ms/step - loss: 0.2441 - accuracy: 0.9022 - val_loss: 0.2517 - val_accuracy: 0.8954\n",
      "Epoch 3/20\n",
      "938/938 [==============================] - 19s 20ms/step - loss: 0.2089 - accuracy: 0.9191 - val_loss: 0.2682 - val_accuracy: 0.8922\n",
      "Epoch 4/20\n",
      "938/938 [==============================] - 18s 20ms/step - loss: 0.1942 - accuracy: 0.9259 - val_loss: 0.2738 - val_accuracy: 0.8905\n",
      "Epoch 5/20\n",
      "938/938 [==============================] - 22s 24ms/step - loss: 0.1772 - accuracy: 0.9323 - val_loss: 0.3045 - val_accuracy: 0.8845\n",
      "Epoch 6/20\n",
      "938/938 [==============================] - 20s 22ms/step - loss: 0.1694 - accuracy: 0.9362 - val_loss: 0.2800 - val_accuracy: 0.8883\n",
      "Epoch 7/20\n",
      "938/938 [==============================] - 19s 21ms/step - loss: 0.1624 - accuracy: 0.9390 - val_loss: 0.3162 - val_accuracy: 0.8795\n",
      "Epoch 8/20\n",
      "938/938 [==============================] - 21s 23ms/step - loss: 0.1566 - accuracy: 0.9413 - val_loss: 0.4099 - val_accuracy: 0.8520\n",
      "Epoch 9/20\n",
      "938/938 [==============================] - 25s 26ms/step - loss: 0.1537 - accuracy: 0.9420 - val_loss: 0.2752 - val_accuracy: 0.8935\n",
      "Epoch 10/20\n",
      "938/938 [==============================] - 27s 29ms/step - loss: 0.1404 - accuracy: 0.9485 - val_loss: 0.3659 - val_accuracy: 0.8623\n",
      "Epoch 11/20\n",
      "938/938 [==============================] - 27s 29ms/step - loss: 0.1362 - accuracy: 0.9492 - val_loss: 0.3078 - val_accuracy: 0.8846\n",
      "Epoch 12/20\n",
      "938/938 [==============================] - 23s 24ms/step - loss: 0.1310 - accuracy: 0.9530 - val_loss: 0.3683 - val_accuracy: 0.8634\n",
      "Epoch 13/20\n",
      "938/938 [==============================] - 20s 21ms/step - loss: 0.1269 - accuracy: 0.9527 - val_loss: 0.3086 - val_accuracy: 0.8837\n",
      "Epoch 14/20\n",
      "938/938 [==============================] - 20s 21ms/step - loss: 0.1218 - accuracy: 0.9551 - val_loss: 0.4350 - val_accuracy: 0.8527\n",
      "Epoch 15/20\n",
      "938/938 [==============================] - 20s 21ms/step - loss: 0.1161 - accuracy: 0.9604 - val_loss: 0.3322 - val_accuracy: 0.8806\n",
      "Epoch 16/20\n",
      "938/938 [==============================] - 19s 20ms/step - loss: 0.1106 - accuracy: 0.9606 - val_loss: 0.3823 - val_accuracy: 0.8688\n",
      "Epoch 17/20\n",
      "938/938 [==============================] - 18s 20ms/step - loss: 0.1073 - accuracy: 0.9613 - val_loss: 0.4644 - val_accuracy: 0.8538\n",
      "Epoch 18/20\n",
      "938/938 [==============================] - 19s 20ms/step - loss: 0.1031 - accuracy: 0.9626 - val_loss: 0.3503 - val_accuracy: 0.8843\n",
      "Epoch 19/20\n",
      "938/938 [==============================] - 19s 20ms/step - loss: 0.0982 - accuracy: 0.9653 - val_loss: 0.3634 - val_accuracy: 0.8833\n",
      "Epoch 20/20\n",
      "938/938 [==============================] - 19s 20ms/step - loss: 0.0941 - accuracy: 0.9659 - val_loss: 0.4672 - val_accuracy: 0.8539\n"
     ]
    }
   ],
   "source": [
    "model.compile(optimizer=\"rmsprop\", loss=\"binary_crossentropy\", metrics=[\"accuracy\"])\n",
    "history = model.fit(x_train, y_train, batch_size=batch_size, epochs=20, validation_data=(x_val, y_val))"
   ]
  },
  {
   "cell_type": "code",
   "execution_count": 40,
   "metadata": {
    "colab": {
     "base_uri": "https://localhost:8080/",
     "height": 318
    },
    "id": "dKBVw5mHv_oX",
    "outputId": "01b16817-5689-4137-d46b-8275b712e986"
   },
   "outputs": [
    {
     "data": {
      "image/png": "[encoded data removed]",
      "text/plain": [
       "<Figure size 432x288 with 1 Axes>"
      ]
     },
     "metadata": {
      "needs_background": "light"
     },
     "output_type": "display_data"
    },
    {
     "name": "stdout",
     "output_type": "stream",
     "text": [
      "313/313 [==============================] - 2s 5ms/step - loss: 0.4535 - accuracy: 0.8587\n",
      "Test Accuracy = 0.86\n"
     ]
    }
   ],
   "source": [
    "plot_hist_classif(history)\n",
    "print('Test Accuracy = %.2f' % model.evaluate(x_test, y_test)[1])  # overfitting!"
   ]
  },
  {
   "cell_type": "code",
   "execution_count": 41,
   "metadata": {
    "colab": {
     "base_uri": "https://localhost:8080/"
    },
    "id": "Ieh7Wl9Pwh8V",
    "outputId": "7e4d2bbc-b62c-407d-ee81-e5d62d9caa3a"
   },
   "outputs": [
    {
     "name": "stdout",
     "output_type": "stream",
     "text": [
      "Model: \"sequential_6\"\n",
      "_________________________________________________________________\n",
      "Layer (type)                 Output Shape              Param #   \n",
      "=================================================================\n",
      "embedding_1 (Embedding)      (None, None, 64)          960000    \n",
      "_________________________________________________________________\n",
      "lstm_4 (LSTM)                (None, 128)               98816     \n",
      "_________________________________________________________________\n",
      "dropout_4 (Dropout)          (None, 128)               0         \n",
      "_________________________________________________________________\n",
      "dense_9 (Dense)              (None, 1)                 129       \n",
      "=================================================================\n",
      "Total params: 1,058,945\n",
      "Trainable params: 1,058,945\n",
      "Non-trainable params: 0\n",
      "_________________________________________________________________\n"
     ]
    }
   ],
   "source": [
    "# Let's try an RNN\n",
    "model = models.Sequential()\n",
    "model.add(layers.Embedding(max_features, 64))\n",
    "model.add(layers.LSTM(128, return_sequences=False))\n",
    "model.add(layers.Dropout(0.5))\n",
    "model.add(layers.Dense(1, activation=\"sigmoid\"))\n",
    "model.compile(optimizer=\"rmsprop\", loss=\"binary_crossentropy\", metrics=[\"accuracy\"])\n",
    "model.summary()"
   ]
  },
  {
   "cell_type": "code",
   "execution_count": 42,
   "metadata": {
    "colab": {
     "base_uri": "https://localhost:8080/",
     "height": 561
    },
    "id": "Sd54xZMmxKBQ",
    "outputId": "96c092e9-eea3-4080-b720-31885daecd83"
   },
   "outputs": [
    {
     "name": "stdout",
     "output_type": "stream",
     "text": [
      "Epoch 1/20\n",
      "938/938 [==============================] - 329s 342ms/step - loss: 0.4169 - accuracy: 0.8186 - val_loss: 0.3225 - val_accuracy: 0.8773\n",
      "Epoch 2/20\n",
      "938/938 [==============================] - 342s 365ms/step - loss: 0.2796 - accuracy: 0.8906 - val_loss: 0.4557 - val_accuracy: 0.8327\n",
      "Epoch 3/20\n",
      "938/938 [==============================] - 337s 360ms/step - loss: 0.2386 - accuracy: 0.9133 - val_loss: 0.2984 - val_accuracy: 0.8775\n",
      "Epoch 4/20\n",
      "938/938 [==============================] - 345s 368ms/step - loss: 0.2121 - accuracy: 0.9234 - val_loss: 0.2857 - val_accuracy: 0.8924\n",
      "Epoch 5/20\n",
      "938/938 [==============================] - 346s 369ms/step - loss: 0.1860 - accuracy: 0.9332 - val_loss: 0.2584 - val_accuracy: 0.9054\n",
      "Epoch 6/20\n",
      "938/938 [==============================] - 346s 369ms/step - loss: 0.1688 - accuracy: 0.9410 - val_loss: 0.3238 - val_accuracy: 0.8895\n",
      "Epoch 7/20\n",
      "938/938 [==============================] - 314s 335ms/step - loss: 0.1480 - accuracy: 0.9477 - val_loss: 0.2817 - val_accuracy: 0.9035\n"
     ]
    },
    {
     "data": {
      "image/png": "[encoded data removed]",
      "text/plain": [
       "<Figure size 432x288 with 1 Axes>"
      ]
     },
     "metadata": {
      "needs_background": "light"
     },
     "output_type": "display_data"
    },
    {
     "name": "stdout",
     "output_type": "stream",
     "text": [
      "313/313 [==============================] - 28s 90ms/step - loss: 0.2785 - accuracy: 0.9054\n",
      "Test Accuracy = 0.91\n"
     ]
    }
   ],
   "source": [
    "# This model will take a long time to train, so we add an early stopping criterion\n",
    "# N.B: It's actually much faster to train WITHOUT A GPU!!\n",
    "callbacks = [EarlyStopping(monitor='val_accuracy', patience=2)]\n",
    "history = model.fit(x_train, y_train, batch_size=batch_size, epochs=20, validation_data=(x_val, y_val), callbacks=callbacks)\n",
    "plot_hist_classif(history)\n",
    "print('Test Accuracy = %.2f' % model.evaluate(x_test, y_test)[1])\n",
    "# Note that we're still overfitting, but this is just an example of use"
   ]
  },
  {
   "cell_type": "markdown",
   "metadata": {
    "id": "kzZhXm5gkz_g"
   },
   "source": [
    "## Your turn!\n",
    "\n",
    "Implement a bidirectional RNN that can outperform the LSTM model we had above.\n",
    "\n",
    "A starting skeleton could be:\n",
    " \n",
    "*   Embedding layer with an output dimension of 64\n",
    "*   Bidirectional layer with a 32-neuron LSTM layer\n",
    "*   Dense layer with 1 neuron and a sigmoid activation\n",
    "\n",
    "Some suggestions:\n",
    "\n",
    "- Change the sizes of the layers (i.e., the numbers of neurons)\n",
    "- Add dropout\n",
    "- Add other recurrent and/or bidirectional layers\n",
    "\n",
    "Once you have a model that scores over 90% on the validation set, check its performance on the test set and upload it on the code checker in Moodle.\n",
    "\n",
    "Note that the model I'm suggesting above will be able to reach the desired performance, but it will show signs of overfitting. Can you do it by adding regularization (dropout, smaller network) so you don't overfit?\n"
   ]
  },
  {
   "cell_type": "code",
   "execution_count": 53,
   "metadata": {
    "id": "jCHOC7dyadaj"
   },
   "outputs": [
    {
     "name": "stdout",
     "output_type": "stream",
     "text": [
      "Epoch 1/15\n",
      "938/938 [==============================] - 200s 202ms/step - loss: 0.3942 - accuracy: 0.8242 - val_loss: 0.2994 - val_accuracy: 0.8776\n",
      "Epoch 2/15\n",
      "938/938 [==============================] - 191s 204ms/step - loss: 0.2442 - accuracy: 0.9059 - val_loss: 0.3106 - val_accuracy: 0.8817\n",
      "Epoch 3/15\n",
      "938/938 [==============================] - 186s 199ms/step - loss: 0.1957 - accuracy: 0.9256 - val_loss: 0.2730 - val_accuracy: 0.9003\n",
      "Epoch 4/15\n",
      "938/938 [==============================] - 176s 188ms/step - loss: 0.1705 - accuracy: 0.9388 - val_loss: 0.2728 - val_accuracy: 0.8979\n"
     ]
    },
    {
     "data": {
      "image/png": "[encoded data removed]",
      "text/plain": [
       "<Figure size 432x288 with 1 Axes>"
      ]
     },
     "metadata": {
      "needs_background": "light"
     },
     "output_type": "display_data"
    },
    {
     "name": "stdout",
     "output_type": "stream",
     "text": [
      "313/313 [==============================] - 10s 29ms/step - loss: 0.2620 - accuracy: 0.8991\n",
      "Test Accuracy = 0.90\n"
     ]
    }
   ],
   "source": [
    "n_ = 15  # number of epochs. You can edit this\n",
    "\n",
    "model = models.Sequential()\n",
    "model.add(layers.Embedding(max_features, 64))\n",
    "model.add(layers.Bidirectional(layers.LSTM(10, return_sequences=True)))\n",
    "model.add(layers.Bidirectional(layers.LSTM(10)))\n",
    "model.add(layers.Dense(1))\n",
    "model.add(layers.Activation('sigmoid'))\n",
    "\n",
    "# I DON'T RECOMMEND THAT YOU CHANGE CODE AFTER THIS POINT\n",
    "model.compile(optimizer=\"rmsprop\", loss=\"binary_crossentropy\", metrics=[\"accuracy\"])\n",
    "\n",
    "# print(model.summary())\n",
    "\n",
    "# This model will take a long time to train, so we add an early stopping criterion\n",
    "# I've also added a ModelCheckpoint that will save the best model according to val_accuracy regardless of whether we continue training\n",
    "callbacks = [EarlyStopping(monitor='val_accuracy', patience=1),\n",
    "             ModelCheckpoint(\"model.keras\", save_best_only=True, monitor=\"val_accuracy\", mode='max')]\n",
    "\n",
    "history = model.fit(x_train, y_train, batch_size=batch_size, epochs=n_, \n",
    "                    validation_data=(x_val, y_val), \n",
    "                    callbacks=callbacks)\n",
    "plot_hist_classif(history)\n",
    "model = keras.models.load_model(\"model.keras\")\n",
    "print('Test Accuracy = %.2f' % model.evaluate(x_test, y_test)[1])"
   ]
  },
  {
   "cell_type": "code",
   "execution_count": 56,
   "metadata": {
    "id": "ZFBmg66_CR7y"
   },
   "outputs": [
    {
     "name": "stdout",
     "output_type": "stream",
     "text": [
      "Your model is accurate enough!\n",
      "Model saved! You can now upload it to the lab quiz.\n"
     ]
    }
   ],
   "source": [
    "if model.count_params() > 1000000:\n",
    "    print(\"Due to memory constraints on Moodle, the lab quiz has a 10MB limit on your model size, so you need to use a smaller model to validate through the auto-marker.\")\n",
    "\n",
    "if history.history[\"val_accuracy\"][-1] >= 0.85:\n",
    "    print(\"Your model is accurate enough!\")\n",
    "\n",
    "else:\n",
    "    print(\"Accuracy is below the threshold!\")\n",
    "    raise Exception(\"Your model isn't accurate enough to pass the progress checker!\")\n",
    "# Save the model into a local folder\n",
    "keras.models.save_model(model, \"Model.h5\",save_format='h5')\n",
    "print('Model saved! You can now upload it to the lab quiz.')"
   ]
  },
  {
   "cell_type": "code",
   "execution_count": null,
   "metadata": {
    "id": "hv7PyBQQsXav"
   },
   "outputs": [],
   "source": []
  }
 ],
 "metadata": {
  "colab": {
   "collapsed_sections": [
    "WlhjIvZR_a0Q",
    "rloJamyvWPWj",
    "7c-duA1Z_a0R",
    "3ozUAZX__a0R"
   ],
   "include_colab_link": true,
   "name": "rnn.ipynb",
   "provenance": []
  },
  "kernelspec": {
   "display_name": "Python 3 (ipykernel)",
   "language": "python",
   "name": "python3"
  },
  "language_info": {
   "codemirror_mode": {
    "name": "ipython",
    "version": 3
   },
   "file_extension": ".py",
   "mimetype": "text/x-python",
   "name": "python",
   "nbconvert_exporter": "python",
   "pygments_lexer": "ipython3",
   "version": "3.9.7"
  }
 },
 "nbformat": 4,
 "nbformat_minor": 1
}
